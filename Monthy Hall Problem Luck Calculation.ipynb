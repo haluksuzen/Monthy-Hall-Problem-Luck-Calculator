{
 "cells": [
  {
   "cell_type": "code",
   "execution_count": 7,
   "id": "4fdb7e09",
   "metadata": {},
   "outputs": [
    {
     "name": "stdout",
     "output_type": "stream",
     "text": [
      "Win switch %:  0.73\n",
      "Lose switch %:  0.27\n",
      "Win No switch %:  0.33\n",
      "Lose No switch %:  0.67\n"
     ]
    }
   ],
   "source": [
    "#Import the libraries\n",
    "import random\n",
    "\n",
    "#The host will reveal a door that doesn't contain the prize\n",
    "#Remember the host knows the door that the prize is behind\n",
    "def get_non_prize_door(host, num_doors, player_choice):\n",
    "  i = 1\n",
    "  while (i == host or i== player_choice ):\n",
    "    i = (i+1)%(num_doors)\n",
    "  \n",
    "  return i\n",
    "\n",
    "#Have the player switch to the other unopened door\n",
    "def switch_function(shown_door, num_doors, player_choice):\n",
    "  i = 1\n",
    "  while (i == shown_door or i== player_choice ):\n",
    "    i = (i+1)%(num_doors)\n",
    "  \n",
    "  return i\n",
    "\n",
    "#Play the game \n",
    "def monty_hall_game(switch, num_tests):\n",
    "  win_switch_cnt = 0\n",
    "  win_no_switch_cnt = 0\n",
    "  lose_switch_cnt = 0\n",
    "  lose_no_switch_cnt = 0\n",
    "  doors = [0,1,2] #Get the doors\n",
    "  num_doors = len(doors) #Get the number of doors\n",
    "  \n",
    "  \n",
    "  for i in range(0,num_tests):\n",
    "    door_with_prize = random.randint(0, num_doors-1) #Randomly choose the door with the wanted prize\n",
    "    host = door_with_prize #The host knows which door has the prize\n",
    "    #The player chooses initially a random door that s/he believes has the prize\n",
    "    player_choice = random.randint(0, num_doors-1) \n",
    "    original_player_choice = player_choice\n",
    "    shown_door = get_non_prize_door(host, num_doors, player_choice)\n",
    "    if switch == True:\n",
    "      player_choice = switch_function(shown_door,num_doors, player_choice)\n",
    "    \n",
    "    if player_choice == host and switch == False:\n",
    "      #Then the player wins from not switching\n",
    "      #print('Player Wins (No switch) - The player chose door: ', player_choice,' Original choice: ',original_player_choice ,', Door with prize:', door_with_prize, ', Shown Door: ',shown_door )\n",
    "      win_no_switch_cnt = win_no_switch_cnt + 1\n",
    "    elif player_choice == host and switch == True:\n",
    "      #Then the player wins from switching\n",
    "      #print('Player Wins (switch) - The player chose door: ', player_choice,' Original choice: ',original_player_choice , ', Door with prize:', door_with_prize, ', Shown Door: ',shown_door )\n",
    "      win_switch_cnt = win_switch_cnt +1\n",
    "    elif player_choice != host and switch == False:\n",
    "      #The player lost from not switching\n",
    "      #print('Player Lost (No switch) - The player chose door: ', player_choice,' Original choice: ',original_player_choice , ', Door with prize:', door_with_prize, ', Shown Door: ',shown_door )\n",
    "      lose_no_switch_cnt = lose_no_switch_cnt + 1\n",
    "    elif player_choice != host and switch == True:\n",
    "      #The player lost from switching\n",
    "      #print('Player Lost (switch) - The player chose door: ', player_choice,' Original choice: ',original_player_choice , ', Door with prize:', door_with_prize, ', Shown Door: ',shown_door )\n",
    "      lose_switch_cnt = lose_switch_cnt + 1\n",
    "    else:\n",
    "      print('SOMETHING IS WRONG')\n",
    "\n",
    "  return win_no_switch_cnt,win_switch_cnt,lose_no_switch_cnt,lose_switch_cnt, num_tests\n",
    "#if you want to see player choices you can activate print codes\n",
    "\n",
    "#Play the game\n",
    "x = monty_hall_game(True, 100)\n",
    "print('Win switch %: ', x[1]/ x[4])\n",
    "print('Lose switch %: ', x[3]/ x[4])\n",
    "x = monty_hall_game(False, 100)\n",
    "print('Win No switch %: ', x[0]/ x[4])\n",
    "print('Lose No switch %: ', x[2]/ x[4])\n",
    "\n",
    "\n"
   ]
  },
  {
   "cell_type": "code",
   "execution_count": null,
   "id": "8a9f607d",
   "metadata": {},
   "outputs": [],
   "source": []
  }
 ],
 "metadata": {
  "kernelspec": {
   "display_name": "Python 3",
   "language": "python",
   "name": "python3"
  },
  "language_info": {
   "codemirror_mode": {
    "name": "ipython",
    "version": 3
   },
   "file_extension": ".py",
   "mimetype": "text/x-python",
   "name": "python",
   "nbconvert_exporter": "python",
   "pygments_lexer": "ipython3",
   "version": "3.9.4"
  }
 },
 "nbformat": 4,
 "nbformat_minor": 5
}
